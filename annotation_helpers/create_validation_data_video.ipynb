{
 "cells": [
  {
   "cell_type": "markdown",
   "metadata": {},
   "source": [
    "Notebook to construct videos that visualize salmon ID annotation"
   ]
  },
  {
   "cell_type": "code",
   "execution_count": 1,
   "metadata": {},
   "outputs": [],
   "source": [
    "import cv2\n",
    "import numpy as np\n",
    "import matplotlib.pyplot as plt\n",
    "import os\n",
    "import sys\n",
    "import json\n",
    "import random\n",
    "random.seed(327364)\n",
    "\n",
    "import os\n",
    "import sys\n",
    "sys.path.append(os.path.split(os.getcwd())[0] + '\\\\helpers')\n",
    "\n",
    "import keybox_utils as ku\n",
    "from draw_utils import draw_text"
   ]
  },
  {
   "cell_type": "code",
   "execution_count": 2,
   "metadata": {},
   "outputs": [],
   "source": [
    "## Specify paths\n",
    "labelme_path =  'C:\\\\Users\\\\espen\\\\Documents\\\\work\\\\PhD\\\\papers\\\\salmon_tracking\\\\data\\\\datasets\\\\with_global_salmon_IDs\\\\CS_val\\\\'\n",
    "out_video_name = 'ID_assignment_video.avi'"
   ]
  },
  {
   "cell_type": "code",
   "execution_count": 3,
   "metadata": {},
   "outputs": [],
   "source": [
    "def create_ID_annotation_video(labelme_path, out_video_name, end_frame, IW = 4242, IH = 4242):\n",
    "    ''' \n",
    "    Function to create a video of the salmon ID annotation. All frames in the raw video will be included in the generated video. \n",
    "    The annotated frames will be drawn with bounding boxes around the fish, their ID written at the corner of the box, and a dotted line showing past fish localizations for the given ID.\n",
    "    Args:\n",
    "        labelme_path: Path to the labelme annotations.\n",
    "        out_video_name: Path to the output video.\n",
    "        end_frame: Last frame in the raw video to include in the generated video.\n",
    "    File operations:\n",
    "        Saving a video at the location specified by the out_video_name.\n",
    "    \n",
    "    '''\n",
    "    colors = [(random.randint(0,255), random.randint(0,255), random.randint(0,255)) for i in range(300)]\n",
    "    label_names = os.listdir(labelme_path + 'labels')\n",
    "    img_names = os.listdir(labelme_path + 'images')\n",
    "    writer = cv2.VideoWriter(out_video_name,  \n",
    "                        cv2.VideoWriter_fourcc(*'MJPG'), \n",
    "                        5, (IW,IH)) \n",
    "    frame_num = 0\n",
    "    location_history = {k:[] for k in range(300)}\n",
    "    for img_name in img_names:\n",
    "        if frame_num > end_frame:\n",
    "            break\n",
    "        img = cv2.imread(labelme_path + '\\\\images\\\\' + img_name)\n",
    "        if img_name.split('.')[0] + '.json' in label_names:\n",
    "            label_name = img_name.split('.')[0] + '.json'\n",
    "            with open(labelme_path + '\\\\labels\\\\' + label_name, 'r') as f:\n",
    "                label = json.load(f)\n",
    "                for item in label['shapes']:\n",
    "                    if item['label'] == 'salmon':\n",
    "                        x, y, w, h = ku.xyxy2xywh(np.array(item['points']).flatten())\n",
    "                        cv2.rectangle(img, (int(item['points'][0][0]), int(item['points'][0][1])), (int(item['points'][1][0]), int(item['points'][1][1])), (0, 0, 255) , 2)\n",
    "                        draw_text(img, str(item['group_id']), pos = (min(int(item['points'][0][0]), int(item['points'][1][0])), min(int(item['points'][0][1]), int(item['points'][1][1]))))\n",
    "                        location_history[int(item['group_id'])].append((int(x), int(y)))\n",
    "                        lp = None\n",
    "                        for center in location_history[int(item['group_id'])]:\n",
    "                            cv2.circle(img, center, 10, colors[int(item['group_id'])], -1)\n",
    "                            if lp != None:\n",
    "                                cv2.line(img, lp, center, colors[int(item['group_id'])], 3)\n",
    "                            lp = center\n",
    "        writer.write(img)\n",
    "        frame_num = frame_num + 1\n",
    "create_ID_annotation_video(labelme_path, out_video_name, 50)"
   ]
  }
 ],
 "metadata": {
  "kernelspec": {
   "display_name": "comptrackv2",
   "language": "python",
   "name": "python3"
  },
  "language_info": {
   "codemirror_mode": {
    "name": "ipython",
    "version": 3
   },
   "file_extension": ".py",
   "mimetype": "text/x-python",
   "name": "python",
   "nbconvert_exporter": "python",
   "pygments_lexer": "ipython3",
   "version": "3.12.3"
  }
 },
 "nbformat": 4,
 "nbformat_minor": 2
}
