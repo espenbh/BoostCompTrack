{
 "cells": [
  {
   "cell_type": "markdown",
   "id": "ef6b4ff1",
   "metadata": {},
   "source": [
    "Print dataset statistics"
   ]
  },
  {
   "cell_type": "code",
   "execution_count": 6,
   "id": "da38a748",
   "metadata": {},
   "outputs": [
    {
     "name": "stdout",
     "output_type": "stream",
     "text": [
      "Number of frames: 6\n",
      "Number of salmon: 871\n",
      "Number of boxes: 5814\n"
     ]
    }
   ],
   "source": [
    "labelme_root = 'C:\\\\Users\\\\espen\\\\Documents\\\\work\\\\PhD\\\\papers\\\\salmon_tracking\\\\data\\\\datasets\\\\with_global_salmon_IDs\\\\CS_val\\\\'\n",
    "import os\n",
    "import json\n",
    "splitter = '_f'\n",
    "frame_offset = 0\n",
    "bodyparts_and_salmon = ['salmon', 'head', 'dorsal_fin', 'adi_fin', 'tail_fin', 'anal_fin','pelv_fin','pec_fin', 'body']\n",
    "\n",
    "\n",
    "# Iterate over all labels\n",
    "cnt_dict = {}\n",
    "cnt_dict['frame'] = 0\n",
    "for label_name in os.listdir(labelme_root + '\\\\labels\\\\'):\n",
    "    cnt_dict['frame'] += 1\n",
    "    # Load label\n",
    "    with open(labelme_root + '\\\\labels\\\\' + label_name, 'r') as f:\n",
    "        label = json.load(f)\n",
    "\n",
    "        # Iterate over all label objects\n",
    "        for item in label['shapes']:\n",
    "            if item['label'] not in cnt_dict.keys():\n",
    "                cnt_dict[item['label']] = 0\n",
    "            cnt_dict[item['label']] += 1\n",
    "    \n",
    "# Print the counts\n",
    "print('Number of frames: ' + str(cnt_dict['frame']))\n",
    "print('Number of salmon: ' + str(cnt_dict['salmon']))\n",
    "print('Number of boxes: ' + str(sum([cnt_dict[key] for key in cnt_dict.keys() if key in bodyparts_and_salmon])))"
   ]
  },
  {
   "cell_type": "code",
   "execution_count": null,
   "id": "9dd33a5d",
   "metadata": {},
   "outputs": [],
   "source": []
  }
 ],
 "metadata": {
  "kernelspec": {
   "display_name": "comptrackv2",
   "language": "python",
   "name": "python3"
  },
  "language_info": {
   "codemirror_mode": {
    "name": "ipython",
    "version": 3
   },
   "file_extension": ".py",
   "mimetype": "text/x-python",
   "name": "python",
   "nbconvert_exporter": "python",
   "pygments_lexer": "ipython3",
   "version": "3.12.3"
  }
 },
 "nbformat": 4,
 "nbformat_minor": 5
}
