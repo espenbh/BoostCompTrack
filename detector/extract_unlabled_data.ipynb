{
 "cells": [
  {
   "cell_type": "markdown",
   "metadata": {},
   "source": [
    "This notebook extracts unlabled frames that can be manually annotated"
   ]
  },
  {
   "cell_type": "code",
   "execution_count": 1,
   "metadata": {},
   "outputs": [],
   "source": [
    "import cv2\n",
    "import imutils\n",
    "import numpy as np\n",
    "import matplotlib.pyplot as plt"
   ]
  },
  {
   "cell_type": "code",
   "execution_count": 2,
   "metadata": {},
   "outputs": [
    {
     "name": "stdout",
     "output_type": "stream",
     "text": [
      "30\n",
      "80\n",
      "130\n",
      "180\n",
      "230\n",
      "280\n",
      "330\n",
      "380\n",
      "430\n",
      "480\n",
      "530\n",
      "580\n",
      "630\n",
      "680\n",
      "730\n",
      "780\n",
      "830\n",
      "880\n",
      "930\n",
      "980\n",
      "1030\n",
      "1080\n",
      "1130\n",
      "Cannot read frame\n"
     ]
    }
   ],
   "source": [
    "video_path = r'C:\\\\Users\\\\espen\\\\Documents\\\\work\\\\PhD\\\\papers\\\\salmon_tracking\\\\data\\\\videos\\\\20230312_145025_cage15_t0x_yz.avi.avi'\n",
    "out_path = 'C:\\\\Users\\\\espen\\\\Documents\\\\work\\\\PhD\\\\papers\\\\salmon_tracking\\\\data\\\\datasets\\\\new_dataset\\\\'\n",
    "\n",
    "# Set up video stream\n",
    "cap = cv2.VideoCapture(video_path)\n",
    "\n",
    "# Specify start frame\n",
    "\n",
    "frame_num = 30#5*60*30 + 15*30\n",
    "end_frame = 1500#5*60*30 + 20*30\n",
    "cap.set(cv2.CAP_PROP_POS_FRAMES, frame_num)\n",
    "rotate = 0\n",
    "\n",
    "while cap.isOpened():\n",
    "    print(frame_num)\n",
    "    cap.set(cv2.CAP_PROP_POS_FRAMES, frame_num)\n",
    "    success, frame = cap.read()\n",
    "        \n",
    "    if not success:\n",
    "        print('Cannot read frame')\n",
    "        break\n",
    "    \n",
    "    # Rotate frame\n",
    "    frame = imutils.rotate_bound(frame, rotate).astype(np.uint8)\n",
    "    cv2.imwrite(out_path + video_path.split('.')[0].split('\\\\')[-1] + '_f' + str(frame_num) + '.png', frame)\n",
    "    frame_num = frame_num + 50\n",
    "    if frame_num > end_frame:\n",
    "        break\n"
   ]
  }
 ],
 "metadata": {
  "kernelspec": {
   "display_name": "comptrackv2",
   "language": "python",
   "name": "python3"
  },
  "language_info": {
   "codemirror_mode": {
    "name": "ipython",
    "version": 3
   },
   "file_extension": ".py",
   "mimetype": "text/x-python",
   "name": "python",
   "nbconvert_exporter": "python",
   "pygments_lexer": "ipython3",
   "version": "3.12.3"
  }
 },
 "nbformat": 4,
 "nbformat_minor": 2
}
