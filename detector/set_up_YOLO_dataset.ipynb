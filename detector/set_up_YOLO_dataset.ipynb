{
 "cells": [
  {
   "cell_type": "markdown",
   "metadata": {},
   "source": [
    "A notebook to construct a dataset on YOLO format from labelme annotations"
   ]
  },
  {
   "cell_type": "code",
   "execution_count": 6,
   "metadata": {},
   "outputs": [],
   "source": [
    "import sys\n",
    "import os\n",
    "import os\n",
    "import sys\n",
    "sys.path.append(os.path.split(os.getcwd())[0] + '\\\\format_dataset')\n",
    "from format_dataset import labelme2yolo"
   ]
  },
  {
   "cell_type": "code",
   "execution_count": null,
   "metadata": {},
   "outputs": [],
   "source": [
    "task = 'keybox_detection'\n",
    "bodyparts = ['head', 'dorsal_fin', 'adi_fin', 'tail_fin', 'anal_fin','pelv_fin','pec_fin', 'body']\n",
    "additional_kps = []\n",
    "labelme_root = 'C:\\\\Users\\\\espen\\\\Documents\\\\work\\\\PhD\\\\papers\\\\salmon_tracking\\\\data\\\\datasets\\\\main_folder\\\\' # Creates a dataset using all subdirectories in \"main_folder\". For M5, assemble a directory with CS_train, CS_val, TS_train and all TBW_train directories.\n",
    "YOLO_root = 'C:\\\\Users\\\\espen\\\\Documents\\\\work\\\\PhD\\\\papers\\\\salmon_tracking\\\\data\\\\YOLO_data\\\\' "
   ]
  },
  {
   "cell_type": "code",
   "execution_count": 9,
   "metadata": {},
   "outputs": [],
   "source": [
    "#validation_frames = ['GH010031_frame_2400', '20240502_084036_1714639236339055959_Korsneset_Merd07_22228352_B2Add_cAIge_win_f30', '20230309_154441_cage15_t0x_yz_f80']\n",
    "validation_frames = ['GH010031_frame_2400']\n",
    "labelme2yolo(labelme_root, YOLO_root, task, bodyparts, validation_frames = validation_frames, additional_kps=additional_kps)"
   ]
  },
  {
   "cell_type": "code",
   "execution_count": null,
   "metadata": {},
   "outputs": [],
   "source": []
  }
 ],
 "metadata": {
  "kernelspec": {
   "display_name": "comptrackv2",
   "language": "python",
   "name": "python3"
  },
  "language_info": {
   "codemirror_mode": {
    "name": "ipython",
    "version": 3
   },
   "file_extension": ".py",
   "mimetype": "text/x-python",
   "name": "python",
   "nbconvert_exporter": "python",
   "pygments_lexer": "ipython3",
   "version": "3.12.3"
  }
 },
 "nbformat": 4,
 "nbformat_minor": 2
}
