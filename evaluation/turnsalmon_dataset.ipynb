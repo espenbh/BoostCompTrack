{
 "cells": [
  {
   "cell_type": "markdown",
   "metadata": {},
   "source": [
    "Notebook to generate complete TurnSalmon data (including bounding boxes) from labeled track endpoints. "
   ]
  },
  {
   "cell_type": "code",
   "execution_count": 1,
   "metadata": {},
   "outputs": [],
   "source": [
    "# Code paths\n",
    "import os\n",
    "import sys\n",
    "import yaml\n",
    "import pandas as pd\n",
    "import numpy as np\n",
    "\n",
    "sys.path.append(os.path.split(os.getcwd())[0] + '\\\\helpers')\n",
    "sys.path.append(os.path.split(os.getcwd())[0] + '\\\\evaluation\\\\py-motmetrics')\n",
    "from motmetrics_evaluation import load_txt_data_for_eval\n",
    "from comp_utils import get_salmon_ID_and_comp_type_from_comp_ID, get_comp_id_from_salmon_ID_and_comp_type"
   ]
  },
  {
   "cell_type": "code",
   "execution_count": 2,
   "metadata": {},
   "outputs": [],
   "source": [
    "# Load data\n",
    "gt_labels_path = 'C:\\\\Users\\\\espen\\\\Documents\\\\work\\\\PhD\\\\papers\\\\salmon_tracking\\\\data\\\\datasets\\\\without_boxes\\\\TS_val\\\\long_range_matches_korsneset_20240508_analysis1.xlsx'\n",
    "gt_data_path = 'C:\\\\Users\\\\espen\\\\Documents\\\\work\\\\PhD\\\\papers\\\\salmon_tracking\\\\data\\\\datasets\\\\without_boxes\\\\TS_val\\\\not_track\\\\output\\\\salmon_tracking\\\\analysis1\\\\MOT_results.txt'\n",
    "\n",
    "with open('\\\\'.join(gt_data_path.split('\\\\')[:-1]) + '\\\\config.yml', 'r') as f:\n",
    "    config = yaml.safe_load(f)\n"
   ]
  },
  {
   "cell_type": "code",
   "execution_count": 3,
   "metadata": {},
   "outputs": [],
   "source": [
    "# Format gt trackers\n",
    "gt_data = load_txt_data_for_eval(gt_data_path)\n",
    "gt_data[:,1] = gt_data[:,1].astype(float).astype(int).astype(str)\n",
    "kb = gt_data[:,2:6].astype(float)\n",
    "kb = np.vstack([kb[:,0]-kb[:,2]/2, kb[:,1]-kb[:,3]/2, kb[:,2], kb[:,3]]).T\n",
    "gt_data[:,2:6] = kb.astype(str)\n",
    "gt_data[:,1], _ = get_salmon_ID_and_comp_type_from_comp_ID(gt_data[:,1].astype(float).astype(int))\n",
    "gt_labels =  np.array(pd.read_excel(gt_labels_path))"
   ]
  },
  {
   "cell_type": "code",
   "execution_count": 4,
   "metadata": {},
   "outputs": [],
   "source": [
    "# Create labels on the form: comp_id, frame_num_start, xywh_start, frame_num_end, xywh_end, label_type (12 vals)\n",
    "\n",
    "id = 0\n",
    "prev_same_val = -1\n",
    "labled_gt = []\n",
    "finished_dets = []\n",
    "\n",
    "for i in range(gt_labels.shape[0]):\n",
    "    if gt_labels[i][3] != prev_same_val:\n",
    "        id = id + 1\n",
    "        prev_same_val = gt_labels[i][3]\n",
    "    label_starts = gt_data[gt_data[:,1].astype(int)==int(gt_labels[i][0])]\n",
    "    label_ends = gt_data[gt_data[:,1].astype(int)==int(gt_labels[i][1])]\n",
    "    labels = []\n",
    "    for label_start in label_starts:\n",
    "        for label_end in label_ends:\n",
    "            if label_start[10] == label_end[10]:\n",
    "                if int(label_start[0])%10 != 0:\n",
    "                    print('err')\n",
    "                    print(label_start)\n",
    "                    print(label_end)\n",
    "                if int(label_end[0])%10 != 0:\n",
    "                    print('err')\n",
    "                    print(label_start)\n",
    "                    print(label_end)\n",
    "                compid = get_comp_id_from_salmon_ID_and_comp_type(id, config['components'].index(label_start[10]))\n",
    "                label = [[str(compid)] + [label_start[0]] + list(label_start[2:6]) + [label_end[0]] + list(label_end[2:6]) + [gt_labels[i][2]] + [label_start[10]]]\n",
    "                labled_gt.append(label)\n",
    "\n"
   ]
  },
  {
   "cell_type": "code",
   "execution_count": null,
   "metadata": {},
   "outputs": [
    {
     "name": "stdout",
     "output_type": "stream",
     "text": [
      "GT succesfully created. Size of array: (1277, 13)\n"
     ]
    }
   ],
   "source": [
    "# Save complete TurnSalmon data\n",
    "gt_finished = np.concatenate(labled_gt)\n",
    "np.savetxt('\\\\'.join(gt_data_path.split('\\\\')[:-1]) + '\\\\MOT_results_labled.txt', gt_finished.astype(str), fmt='%s', delimiter=',')\n",
    "print('GT succesfully created. Size of array: ' + str(gt_finished.shape))"
   ]
  }
 ],
 "metadata": {
  "kernelspec": {
   "display_name": "comptrackv2",
   "language": "python",
   "name": "python3"
  },
  "language_info": {
   "codemirror_mode": {
    "name": "ipython",
    "version": 3
   },
   "file_extension": ".py",
   "mimetype": "text/x-python",
   "name": "python",
   "nbconvert_exporter": "python",
   "pygments_lexer": "ipython3",
   "version": "3.12.3"
  }
 },
 "nbformat": 4,
 "nbformat_minor": 2
}
